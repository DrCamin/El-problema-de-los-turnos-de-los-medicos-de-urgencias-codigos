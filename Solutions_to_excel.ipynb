{
  "nbformat": 4,
  "nbformat_minor": 0,
  "metadata": {
    "colab": {
      "provenance": []
    },
    "kernelspec": {
      "name": "python3",
      "display_name": "Python 3"
    },
    "language_info": {
      "name": "python"
    }
  },
  "cells": [
    {
      "cell_type": "code",
      "execution_count": null,
      "metadata": {
        "id": "v1-0nVheV5dt"
      },
      "outputs": [],
      "source": [
        "import pandas as pd"
      ]
    },
    {
      "cell_type": "code",
      "source": [
        "ruta = \"/content/solveTFM.txt\"\n",
        "\n",
        "with open(ruta, \"r\") as archivo:\n",
        "  contenido = archivo.read()\n",
        "\n",
        "texto = contenido.split(\"VAR X\",1)[1]\n",
        "texto = \"1\" + texto.split(\"1\",1)[1]\n",
        "texto = texto.rsplit(\"EPS\",1)[0]\n",
        "\n",
        "lineas = texto.split(\"\\n\")\n",
        "\n",
        "nummed = int(len(lineas)/(3*28))\n",
        "\n",
        "matrix = [[[0 for _ in range(28)] for _ in range(3)] for _ in range(nummed)]\n",
        "\n",
        "for linea in lineas:\n",
        "  linea = linea[0:8] + linea[22]\n",
        "  if linea[8] != \"1\":\n",
        "    linea = linea[0:8] + \"0\"\n",
        "  pos1 = int(linea[0:2])\n",
        "  pos2 = int(linea[3])\n",
        "  pos3 = int(linea[5:7])\n",
        "  matrix[pos3-1][pos2-1][pos1-1] = int(linea[8])\n",
        "\n",
        "df1 = pd.DataFrame(index=range(3), columns=range(28))\n",
        "\n",
        "for i in range(3):\n",
        "  for j in range(28):\n",
        "    escribe = \" \"\n",
        "    for k in range(nummed):\n",
        "      if matrix[k][i][j] == 1:\n",
        "        escribe = escribe + \" \" + str(k+1) + \"; \"\n",
        "    df1.at[i,j] = escribe\n",
        "\n",
        "df1.index = df1.index + 1\n",
        "df1.columns = df1.columns + 1\n",
        "\n",
        "\n",
        "#df1.to_excel(\"/content/solveTFM.xlsx\")"
      ],
      "metadata": {
        "id": "wcBjixMhWDHf"
      },
      "execution_count": null,
      "outputs": []
    },
    {
      "cell_type": "code",
      "source": [
        "\n",
        "df2 = pd.DataFrame(index=range(nummed), columns=range(11))\n",
        "df2.index = df2.index + 1\n",
        "df2.columns = ['Horas mensuales', 'Horas semana 1', 'Horas semana 2',\n",
        "               'Horas semana 3', 'Horas semana 4', 'Mañanas L-V', 'Tardes L-V',\n",
        "               'Noches L-J', 'Sabados-domingos 16h', 'Noches V-D', 'Dias libres']\n"
      ],
      "metadata": {
        "id": "ifKhXK5agQF2"
      },
      "execution_count": null,
      "outputs": []
    },
    {
      "cell_type": "code",
      "source": [
        "for i in range(nummed):\n",
        "  hs = [0, 0, 0, 0]; sd = 0; n = 0; nf = 0; dl = 0\n",
        "  m = 0; t = 0\n",
        "  for j in range(28):\n",
        "    aux_dl = 1\n",
        "    str_to_search = \" \" + str(i+1) + \"; \"\n",
        "    if j%7 < 4:\n",
        "      if str_to_search in df1.at[1, j+1]:\n",
        "        m = m+1; aux_dl = 0; hs[j//7] = hs[j//7] + 7\n",
        "      if str_to_search in df1.at[2, j+1]:\n",
        "        t = t+1; aux_dl = 0; hs[j//7] = hs[j//7] + 7\n",
        "      if str_to_search in df1.at[3, j+1]:\n",
        "        n = n+1; aux_dl = 0; hs[j//7] = hs[j//7] + 10\n",
        "      dl = dl + aux_dl\n",
        "    elif j%7 == 4:\n",
        "      if str_to_search in df1.at[1, j+1]:\n",
        "        m = m+1; aux_dl = 0; hs[j//7] = hs[j//7] + 7\n",
        "      if str_to_search in df1.at[2, j+1]:\n",
        "        t = t+1; aux_dl = 0; hs[j//7] = hs[j//7] + 7\n",
        "      if str_to_search in df1.at[3, j+1]:\n",
        "        nf = nf+1; aux_dl = 0; hs[j//7] = hs[j//7] + 10\n",
        "      dl = dl + aux_dl\n",
        "    else:\n",
        "      if str_to_search in df1.at[1, j+1]:\n",
        "        sd = sd+1; aux_dl = 0; hs[j//7] = hs[j//7] + 14\n",
        "      if str_to_search in df1.at[3, j+1]:\n",
        "        nf = nf+1; aux_dl = 0; hs[j//7] = hs[j//7] + 12\n",
        "      dl = dl + aux_dl\n",
        "  df2.loc[i+1] = [sum(hs)] + hs + [m, t, n, sd, nf, dl]"
      ],
      "metadata": {
        "id": "U808IUUOmHcK"
      },
      "execution_count": null,
      "outputs": []
    },
    {
      "cell_type": "code",
      "source": [
        "rutaexcel = \"/content/solveTFM.xlsx\"\n",
        "\n",
        "with pd.ExcelWriter(rutaexcel) as writer:\n",
        "    # Guardar el DataFrame df1 en la hoja 'Hoja1'\n",
        "    df1.to_excel(writer, sheet_name='Hoja1')\n",
        "\n",
        "    # Guardar el DataFrame df2 en la hoja 'Hoja2'\n",
        "    df2.to_excel(writer, sheet_name='Hoja2')"
      ],
      "metadata": {
        "id": "LFURukYgiy98"
      },
      "execution_count": null,
      "outputs": []
    }
  ]
}